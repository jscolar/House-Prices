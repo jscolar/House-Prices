{
  "nbformat": 4,
  "nbformat_minor": 0,
  "metadata": {
    "colab": {
      "name": "V8_Data Analytics Coursework.ipynb",
      "provenance": [],
      "collapsed_sections": []
    },
    "kernelspec": {
      "display_name": "Python 3",
      "language": "python",
      "name": "python3"
    },
    "accelerator": "GPU"
  },
  "cells": [
    {
      "cell_type": "code",
      "metadata": {
        "colab_type": "code",
        "id": "pHF9mVcu6bl4",
        "colab": {}
      },
      "source": [
        "import numpy as np\n",
        "import pandas as pd\n",
        "import matplotlib.pyplot as plt\n",
        "import datetime as dt\n",
        "from sklearn.metrics import mean_squared_error, mean_absolute_error\n",
        "from sklearn.model_selection import train_test_split\n",
        "from google.colab import auth\n",
        "from google.colab import drive\n",
        "from sklearn.linear_model import LinearRegression\n",
        "from sklearn.preprocessing import PolynomialFeatures\n",
        "import math as math"
      ],
      "execution_count": 0,
      "outputs": []
    },
    {
      "cell_type": "code",
      "metadata": {
        "colab_type": "code",
        "id": "BViYqDaa6jL3",
        "outputId": "5384df8f-b7b7-40f9-bb79-bafe8e0338d8",
        "colab": {
          "base_uri": "https://localhost:8080/",
          "height": 34
        }
      },
      "source": [
        "drive.mount('/content/gdrive') #mount the googledrive\n",
        "#!ls \"/content/gdrive/My Drive/DA_Coursework/3. Data\" #list the content"
      ],
      "execution_count": 0,
      "outputs": [
        {
          "output_type": "stream",
          "text": [
            "Drive already mounted at /content/gdrive; to attempt to forcibly remount, call drive.mount(\"/content/gdrive\", force_remount=True).\n"
          ],
          "name": "stdout"
        }
      ]
    },
    {
      "cell_type": "code",
      "metadata": {
        "colab_type": "code",
        "id": "hpeoUqemFZec",
        "colab": {}
      },
      "source": [
        "#2READ DATASET FROM FILE\n",
        "s_boroughs = pd.read_csv(\"/content/gdrive/My Drive/DA_Coursework/3. Data/londonBoroughs.csv\")\n",
        "#s_boroughs = pd.read_csv(\"/content/gdrive/My Drive/DA_Coursework/3. Data/londonBoroughsWO_Others.csv\")\n",
        "#s_boroughs = pd.read_csv(\"/content/gdrive/My Drive/DA_Coursework/3. Data/londonBoroughsWO_Others.csv\")\n",
        "#s_boroughs = pd.read_csv(\"/content/gdrive/My Drive/DA_Coursework/3. Data/londonBoroughs_realprice.csv\")"
      ],
      "execution_count": 0,
      "outputs": []
    },
    {
      "cell_type": "code",
      "metadata": {
        "colab_type": "code",
        "id": "geqcwk_dPJdp",
        "outputId": "ee88e8de-3680-43dd-c2d8-e5249466c3c9",
        "colab": {
          "base_uri": "https://localhost:8080/",
          "height": 34
        }
      },
      "source": [
        "#3UNIQUE VALUES IN 'district' COLUMN\n",
        "set(s_boroughs['district'])"
      ],
      "execution_count": 0,
      "outputs": [
        {
          "output_type": "execute_result",
          "data": {
            "text/plain": [
              "{'CITY OF WESTMINSTER', 'CROYDON', 'LAMBETH'}"
            ]
          },
          "metadata": {
            "tags": []
          },
          "execution_count": 5
        }
      ]
    },
    {
      "cell_type": "code",
      "metadata": {
        "colab_type": "code",
        "id": "BwtWnbgyFgRK",
        "colab": {}
      },
      "source": [
        "#4Convert Date to numerical value for the three datasets:\n",
        "s_boroughs['dateOfTransfer'] = pd.to_datetime(s_boroughs['dateOfTransfer'])\n",
        "s_boroughs['dateOfTransfer'] = s_boroughs['dateOfTransfer'].map(dt.datetime.toordinal)"
      ],
      "execution_count": 0,
      "outputs": []
    },
    {
      "cell_type": "code",
      "metadata": {
        "colab_type": "code",
        "id": "r4MaanSwFhYM",
        "colab": {}
      },
      "source": [
        "#5Create the dummy values for categorical values (Property Type, Old/New, Duration, PPD)\n",
        "s_boroughs = pd.concat([s_boroughs,pd.get_dummies(s_boroughs['propertyType'], prefix='prop_type')],axis=1)\n",
        "s_boroughs = pd.concat([s_boroughs,pd.get_dummies(s_boroughs['oldNew'], prefix='oldNew')],axis=1)\n",
        "s_boroughs = pd.concat([s_boroughs,pd.get_dummies(s_boroughs['duration'], prefix='duration')],axis=1)"
      ],
      "execution_count": 0,
      "outputs": []
    },
    {
      "cell_type": "code",
      "metadata": {
        "colab_type": "code",
        "id": "N2V5LiZAFmNu",
        "colab": {}
      },
      "source": [
        "#6Divide the dataset in three boroughs:\n",
        "df_lambeth = s_boroughs.loc[s_boroughs['district']=='LAMBETH'] \n",
        "df_croydon = s_boroughs.loc[s_boroughs['district']=='CROYDON']\n",
        "df_westminster = s_boroughs.loc[s_boroughs['district']=='CITY OF WESTMINSTER']"
      ],
      "execution_count": 0,
      "outputs": []
    },
    {
      "cell_type": "code",
      "metadata": {
        "colab_type": "code",
        "id": "IYeqUQXiFtUF",
        "outputId": "49332986-3f57-45e6-cc31-1ea5d3044554",
        "colab": {
          "base_uri": "https://localhost:8080/",
          "height": 278
        }
      },
      "source": [
        "#7Drop the features that will not be considered:\n",
        "df_lambeth.drop(columns=['Unnamed: 0','townCity','district','county','propertyType','oldNew','duration'],inplace=True)\n",
        "df_croydon.drop(columns=['Unnamed: 0','townCity','district','county','propertyType','oldNew','duration'],inplace=True)\n",
        "df_westminster.drop(columns=['Unnamed: 0','townCity','district','county','propertyType','oldNew','duration'],inplace=True)\n"
      ],
      "execution_count": 0,
      "outputs": [
        {
          "output_type": "stream",
          "text": [
            "/usr/local/lib/python3.6/dist-packages/ipykernel_launcher.py:1: SettingWithCopyWarning: \n",
            "A value is trying to be set on a copy of a slice from a DataFrame\n",
            "\n",
            "See the caveats in the documentation: http://pandas.pydata.org/pandas-docs/stable/indexing.html#indexing-view-versus-copy\n",
            "  \"\"\"Entry point for launching an IPython kernel.\n",
            "/usr/local/lib/python3.6/dist-packages/ipykernel_launcher.py:2: SettingWithCopyWarning: \n",
            "A value is trying to be set on a copy of a slice from a DataFrame\n",
            "\n",
            "See the caveats in the documentation: http://pandas.pydata.org/pandas-docs/stable/indexing.html#indexing-view-versus-copy\n",
            "  \n",
            "/usr/local/lib/python3.6/dist-packages/ipykernel_launcher.py:3: SettingWithCopyWarning: \n",
            "A value is trying to be set on a copy of a slice from a DataFrame\n",
            "\n",
            "See the caveats in the documentation: http://pandas.pydata.org/pandas-docs/stable/indexing.html#indexing-view-versus-copy\n",
            "  This is separate from the ipykernel package so we can avoid doing imports until\n"
          ],
          "name": "stderr"
        }
      ]
    },
    {
      "cell_type": "code",
      "metadata": {
        "id": "r5D0edsfaKTk",
        "colab_type": "code",
        "colab": {}
      },
      "source": [
        "#CALCULATE THE MEAN PER DAY\n",
        "df_lambeth = df_lambeth.groupby('dateOfTransfer').mean()\n",
        "df_croydon = df_croydon.groupby('dateOfTransfer').mean()\n",
        "df_westminster = df_westminster.groupby('dateOfTransfer').mean()"
      ],
      "execution_count": 0,
      "outputs": []
    },
    {
      "cell_type": "code",
      "metadata": {
        "colab_type": "code",
        "id": "lmbdWmST7S4n",
        "colab": {}
      },
      "source": [
        "#8EXTRACT THE FEATURES OF EACH BOROUGH FOR X AND Y VARIABLES\n",
        "xfeat = ['prop_type_D', 'prop_type_F','prop_type_S', 'prop_type_T','oldNew_N', 'oldNew_Y', 'duration_F','duration_L', 'duration_U']\n",
        "yfeat = ['price']\n",
        "#X AND Y FOR WESTMINSTER\n",
        "Xw = df_westminster[xfeat]\n",
        "Yw = df_westminster[yfeat]\n",
        "#X AND Y FOR CROYDON\n",
        "Xc = df_croydon[xfeat]\n",
        "Yc = df_croydon[yfeat]\n",
        "#X AND Y FOR LAMBETH\n",
        "Xl = df_lambeth[xfeat]\n",
        "Yl = df_lambeth[yfeat]\n",
        "\n",
        "#SPLIT THE TRAIN AND TEST DATASET\n",
        "Xw_train, Xw_test, Yw_train, Yw_test = train_test_split(Xw, Yw, test_size=0.2,random_state = 42)\n",
        "Xc_train, Xc_test, Yc_train, Yc_test = train_test_split(Xc, Yc, test_size=0.2,random_state = 42)\n",
        "Xl_train, Xl_test, Yl_train, Yl_test = train_test_split(Xl, Yl, test_size=0.2,random_state = 42)\n"
      ],
      "execution_count": 0,
      "outputs": []
    },
    {
      "cell_type": "markdown",
      "metadata": {
        "id": "RXwbyE4KNFFe",
        "colab_type": "text"
      },
      "source": [
        "#Linear regression model"
      ]
    },
    {
      "cell_type": "code",
      "metadata": {
        "colab_type": "code",
        "id": "ZRM3mdLt7dT2",
        "colab": {}
      },
      "source": [
        "#10BUILDING THE REGRESSION MODEL FOR WESTMINSTER\n",
        "#WESTMINSTER\n",
        "modelw = LinearRegression()\n",
        "# Lambeth\n",
        "modell = LinearRegression()\n",
        "# Croydon\n",
        "modelc = LinearRegression()\n",
        "\n",
        "#TRAINING THE MODEL FOR EACH BOROUGH\n",
        "modelw.fit(Xw_train, Yw_train)\n",
        "modell.fit(Xl_train, Yl_train)\n",
        "modelc.fit(Xc_train, Yc_train)\n",
        "\n",
        "# MODEL PREDICTIONS \n",
        "Yw_predict = modelw.predict(Xw_test)\n",
        "Yl_predict = modell.predict(Xl_test)\n",
        "Yc_predict = modelc.predict(Xc_test)\n",
        "\n",
        "#CONVERT TO DATAFRAME\n",
        "Yw_predict = pd.DataFrame(Yw_predict)\n",
        "Yl_predict = pd.DataFrame(Yl_predict)\n",
        "Yc_predict = pd.DataFrame(Yc_predict)\n"
      ],
      "execution_count": 0,
      "outputs": []
    },
    {
      "cell_type": "markdown",
      "metadata": {
        "id": "FHws-aLg_dNw",
        "colab_type": "text"
      },
      "source": [
        "# **Polynomial Regression**"
      ]
    },
    {
      "cell_type": "code",
      "metadata": {
        "id": "YWQNczya_hlu",
        "colab_type": "code",
        "outputId": "083e6ead-c045-4934-dc88-d00c6f4b0c34",
        "colab": {
          "base_uri": "https://localhost:8080/",
          "height": 204
        }
      },
      "source": [
        "#POLYNOMIAL REGRESSION: Building the model:Croydon\n",
        "\n",
        "#Transform X_train and X_test into polynomials order 2\n",
        "polyC = PolynomialFeatures(degree=2, interaction_only=True)\n",
        "Xc_train_Poly = polyC.fit_transform(Xc_train)\n",
        "Xc_test_Poly = polyC.fit_transform(Xc_test)\n",
        "\n",
        "\n",
        "#Build the model\n",
        "polyC_model = LinearRegression()\n",
        "polyC_model.fit(Xc_train_Poly, Yc_train)\n",
        "\n",
        "#Predict Y Values\n",
        "yc_PolyPredict = polyC_model.predict(Xc_test_Poly)\n",
        "\n",
        "\n",
        "#X_test.columns\n",
        "yc_PolyPredict = pd.DataFrame(yc_PolyPredict)\n",
        "yc_PolyPredict.head(5)"
      ],
      "execution_count": 0,
      "outputs": [
        {
          "output_type": "execute_result",
          "data": {
            "text/html": [
              "<div>\n",
              "<style scoped>\n",
              "    .dataframe tbody tr th:only-of-type {\n",
              "        vertical-align: middle;\n",
              "    }\n",
              "\n",
              "    .dataframe tbody tr th {\n",
              "        vertical-align: top;\n",
              "    }\n",
              "\n",
              "    .dataframe thead th {\n",
              "        text-align: right;\n",
              "    }\n",
              "</style>\n",
              "<table border=\"1\" class=\"dataframe\">\n",
              "  <thead>\n",
              "    <tr style=\"text-align: right;\">\n",
              "      <th></th>\n",
              "      <th>0</th>\n",
              "    </tr>\n",
              "  </thead>\n",
              "  <tbody>\n",
              "    <tr>\n",
              "      <th>0</th>\n",
              "      <td>164352.0</td>\n",
              "    </tr>\n",
              "    <tr>\n",
              "      <th>1</th>\n",
              "      <td>131072.0</td>\n",
              "    </tr>\n",
              "    <tr>\n",
              "      <th>2</th>\n",
              "      <td>187904.0</td>\n",
              "    </tr>\n",
              "    <tr>\n",
              "      <th>3</th>\n",
              "      <td>187904.0</td>\n",
              "    </tr>\n",
              "    <tr>\n",
              "      <th>4</th>\n",
              "      <td>178176.0</td>\n",
              "    </tr>\n",
              "  </tbody>\n",
              "</table>\n",
              "</div>"
            ],
            "text/plain": [
              "          0\n",
              "0  164352.0\n",
              "1  131072.0\n",
              "2  187904.0\n",
              "3  187904.0\n",
              "4  178176.0"
            ]
          },
          "metadata": {
            "tags": []
          },
          "execution_count": 45
        }
      ]
    },
    {
      "cell_type": "code",
      "metadata": {
        "id": "gfmIs7EcAOyd",
        "colab_type": "code",
        "outputId": "69ad9b1a-e3fe-4134-d9ca-41ca134623c7",
        "colab": {
          "base_uri": "https://localhost:8080/",
          "height": 204
        }
      },
      "source": [
        "#POLYNOMIAL REGRESSION: Building the model: Westminster\n",
        "\n",
        "\n",
        "#Transform X_train and X_test into polynomials order 2\n",
        "polyW = PolynomialFeatures(degree=2, interaction_only=True)\n",
        "Xw_train_Poly = polyW.fit_transform(Xw_train)\n",
        "Xw_test_Poly = polyW.fit_transform(Xw_test)\n",
        "\n",
        "\n",
        "#Build the model\n",
        "polyW_model = LinearRegression()\n",
        "polyW_model.fit(Xw_train_Poly, Yw_train)\n",
        "\n",
        "#Predict Y Values\n",
        "yw_PolyPredict = polyW_model.predict(Xw_test_Poly)\n",
        "\n",
        "\n",
        "#X_test.columns\n",
        "yw_PolyPredict = pd.DataFrame(yw_PolyPredict)\n",
        "yw_PolyPredict.head(5)"
      ],
      "execution_count": 0,
      "outputs": [
        {
          "output_type": "execute_result",
          "data": {
            "text/html": [
              "<div>\n",
              "<style scoped>\n",
              "    .dataframe tbody tr th:only-of-type {\n",
              "        vertical-align: middle;\n",
              "    }\n",
              "\n",
              "    .dataframe tbody tr th {\n",
              "        vertical-align: top;\n",
              "    }\n",
              "\n",
              "    .dataframe thead th {\n",
              "        text-align: right;\n",
              "    }\n",
              "</style>\n",
              "<table border=\"1\" class=\"dataframe\">\n",
              "  <thead>\n",
              "    <tr style=\"text-align: right;\">\n",
              "      <th></th>\n",
              "      <th>0</th>\n",
              "    </tr>\n",
              "  </thead>\n",
              "  <tbody>\n",
              "    <tr>\n",
              "      <th>0</th>\n",
              "      <td>423936.0</td>\n",
              "    </tr>\n",
              "    <tr>\n",
              "      <th>1</th>\n",
              "      <td>724992.0</td>\n",
              "    </tr>\n",
              "    <tr>\n",
              "      <th>2</th>\n",
              "      <td>770048.0</td>\n",
              "    </tr>\n",
              "    <tr>\n",
              "      <th>3</th>\n",
              "      <td>299008.0</td>\n",
              "    </tr>\n",
              "    <tr>\n",
              "      <th>4</th>\n",
              "      <td>851968.0</td>\n",
              "    </tr>\n",
              "  </tbody>\n",
              "</table>\n",
              "</div>"
            ],
            "text/plain": [
              "          0\n",
              "0  423936.0\n",
              "1  724992.0\n",
              "2  770048.0\n",
              "3  299008.0\n",
              "4  851968.0"
            ]
          },
          "metadata": {
            "tags": []
          },
          "execution_count": 46
        }
      ]
    },
    {
      "cell_type": "code",
      "metadata": {
        "id": "hXVihYMzAZad",
        "colab_type": "code",
        "outputId": "ba35d699-af63-4b46-bfb0-0fb1aa46eede",
        "colab": {
          "base_uri": "https://localhost:8080/",
          "height": 204
        }
      },
      "source": [
        "#POLYNOMIAL REGRESSION: Building the model: Lambeth\n",
        "\n",
        "\n",
        "#Transform X_train and X_test into polynomials order 2\n",
        "polyL = PolynomialFeatures(degree=2, interaction_only=True)\n",
        "Xl_train_Poly = polyL.fit_transform(Xl_train)\n",
        "Xl_test_Poly = polyL.fit_transform(Xl_test)\n",
        "\n",
        "\n",
        "#Build the model\n",
        "polyL_model = LinearRegression()\n",
        "polyL_model.fit(Xl_train_Poly, Yl_train)\n",
        "\n",
        "#Predict Y Values\n",
        "yl_PolyPredict = polyL_model.predict(Xl_test_Poly)\n",
        "\n",
        "\n",
        "#X_test.columns\n",
        "yl_PolyPredict = pd.DataFrame(yl_PolyPredict)\n",
        "yl_PolyPredict.head(5)"
      ],
      "execution_count": 0,
      "outputs": [
        {
          "output_type": "execute_result",
          "data": {
            "text/html": [
              "<div>\n",
              "<style scoped>\n",
              "    .dataframe tbody tr th:only-of-type {\n",
              "        vertical-align: middle;\n",
              "    }\n",
              "\n",
              "    .dataframe tbody tr th {\n",
              "        vertical-align: top;\n",
              "    }\n",
              "\n",
              "    .dataframe thead th {\n",
              "        text-align: right;\n",
              "    }\n",
              "</style>\n",
              "<table border=\"1\" class=\"dataframe\">\n",
              "  <thead>\n",
              "    <tr style=\"text-align: right;\">\n",
              "      <th></th>\n",
              "      <th>0</th>\n",
              "    </tr>\n",
              "  </thead>\n",
              "  <tbody>\n",
              "    <tr>\n",
              "      <th>0</th>\n",
              "      <td>299520.0</td>\n",
              "    </tr>\n",
              "    <tr>\n",
              "      <th>1</th>\n",
              "      <td>305152.0</td>\n",
              "    </tr>\n",
              "    <tr>\n",
              "      <th>2</th>\n",
              "      <td>577536.0</td>\n",
              "    </tr>\n",
              "    <tr>\n",
              "      <th>3</th>\n",
              "      <td>296448.0</td>\n",
              "    </tr>\n",
              "    <tr>\n",
              "      <th>4</th>\n",
              "      <td>300544.0</td>\n",
              "    </tr>\n",
              "  </tbody>\n",
              "</table>\n",
              "</div>"
            ],
            "text/plain": [
              "          0\n",
              "0  299520.0\n",
              "1  305152.0\n",
              "2  577536.0\n",
              "3  296448.0\n",
              "4  300544.0"
            ]
          },
          "metadata": {
            "tags": []
          },
          "execution_count": 47
        }
      ]
    },
    {
      "cell_type": "markdown",
      "metadata": {
        "id": "3QZbQG8M0PNc",
        "colab_type": "text"
      },
      "source": [
        "##Score"
      ]
    },
    {
      "cell_type": "code",
      "metadata": {
        "id": "1Ftnogpn0SZc",
        "colab_type": "code",
        "outputId": "847eb24d-67ae-4f38-911c-f6705af2923d",
        "colab": {
          "base_uri": "https://localhost:8080/",
          "height": 34
        }
      },
      "source": [
        "#OBTAIN THE SCORE MODELS\n",
        "modelw.score(Xw_test, Yw_test)"
      ],
      "execution_count": 0,
      "outputs": [
        {
          "output_type": "execute_result",
          "data": {
            "text/plain": [
              "0.392072363498611"
            ]
          },
          "metadata": {
            "tags": []
          },
          "execution_count": 48
        }
      ]
    },
    {
      "cell_type": "markdown",
      "metadata": {
        "id": "Y0O7V4FLM3ea",
        "colab_type": "text"
      },
      "source": [
        "# MSE calculation"
      ]
    },
    {
      "cell_type": "code",
      "metadata": {
        "colab_type": "code",
        "id": "td8C7bO-D2S4",
        "outputId": "61f811a3-26af-4b33-e0e7-6aeb5356f9d7",
        "colab": {
          "base_uri": "https://localhost:8080/",
          "height": 68
        }
      },
      "source": [
        "#Root MSE for each linear regression\n",
        "#Westminster\n",
        "MSEw = math.sqrt(mean_squared_error(Yw_test,Yw_predict))\n",
        "print('MSE Westminster:',MSEw)\n",
        "#Croydon\n",
        "MSEc = math.sqrt(mean_squared_error(Yc_test,Yc_predict))\n",
        "print('MSE Croydon:',MSEc)\n",
        "#Lambeth\n",
        "MSEl = math.sqrt(mean_squared_error(Yl_test,Yl_predict))\n",
        "print('MSE Lambeth:',MSEl)"
      ],
      "execution_count": 0,
      "outputs": [
        {
          "output_type": "stream",
          "text": [
            "MSE Westminster: 1359742.1917314979\n",
            "MSE Croydon: 114397.6302481525\n",
            "MSE Lambeth: 212529.62145090871\n"
          ],
          "name": "stdout"
        }
      ]
    },
    {
      "cell_type": "code",
      "metadata": {
        "id": "I4cBTw_4B8e5",
        "colab_type": "code",
        "outputId": "a416e6be-6fcf-42a8-8942-f8b40c613d2d",
        "colab": {
          "base_uri": "https://localhost:8080/",
          "height": 68
        }
      },
      "source": [
        "#Root MSE for each polynomial regression\n",
        "#Westminster\n",
        "P_MSEw = math.sqrt(mean_squared_error(Yw_test, yw_PolyPredict))\n",
        "print('P_MSE Westminster:',P_MSEw)\n",
        "#Croydon\n",
        "P_MSEc = math.sqrt(mean_squared_error(Yc_test, yc_PolyPredict))\n",
        "print('P_MSE Croydon:',P_MSEc)\n",
        "#Lambeth\n",
        "P_MSEl = math.sqrt(mean_squared_error(Yl_test, yl_PolyPredict))\n",
        "print('P_MSE Lambeth:',P_MSEl)"
      ],
      "execution_count": 0,
      "outputs": [
        {
          "output_type": "stream",
          "text": [
            "P_MSE Westminster: 1640556.1985620223\n",
            "P_MSE Croydon: 3576066.6873270255\n",
            "P_MSE Lambeth: 229921480224270.2\n"
          ],
          "name": "stdout"
        }
      ]
    },
    {
      "cell_type": "markdown",
      "metadata": {
        "id": "-AJHMhNBsX-M",
        "colab_type": "text"
      },
      "source": [
        "##MSE values for complete dataset:\n",
        "\n",
        "\n",
        "MSE Westminster: 15228521970000.19\n",
        "\n",
        "MSE Croydon: 324078593900.4582\n",
        "\n",
        "MSE Lambeth: 433597856486.83826\n",
        "\n",
        "##MSE values for  dataset without others:\n",
        "MSE Westminster: 1220781555722.7695\n",
        "\n",
        "MSE Croydon: 8622581812.974504\n",
        "\n",
        "MSE Lambeth: 46780201580.45319"
      ]
    },
    {
      "cell_type": "code",
      "metadata": {
        "id": "s94wOI6BWHpc",
        "colab_type": "code",
        "colab": {}
      },
      "source": [
        "MAEw = mean_absolute_error(Yw_test,Yw_predict)\n",
        "print('MAE Westminster:',MSEw)\n",
        "#Croydon\n",
        "MAEc = mean_absolute_error(Yc_test,Yc_predict)\n",
        "print('MAE Croydon:',MSEc)\n",
        "#Lambeth\n",
        "MAEl = mean_absolute_error(Yl_test,Yl_predict)\n",
        "print('MAE Lambeth:',MSEl)"
      ],
      "execution_count": 0,
      "outputs": []
    },
    {
      "cell_type": "markdown",
      "metadata": {
        "id": "gworWMZGUXLC",
        "colab_type": "text"
      },
      "source": [
        "##MAE values for  dataset without others:\n",
        "MAE Westminster: 452899.3690011841\n",
        "\n",
        "MAE Croydon: 53972.11482989346\n",
        "\n",
        "MAE Lambeth: 120646.35975298125"
      ]
    },
    {
      "cell_type": "code",
      "metadata": {
        "colab_type": "code",
        "id": "pVVn6b28Mikn",
        "colab": {}
      },
      "source": [
        "#Compare actual price vs result of the regression\n",
        "comparison = pd.concat([Yw_predict,Yw_test],axis=1,ignore_index = True)\n",
        "Yw_predict\n"
      ],
      "execution_count": 0,
      "outputs": []
    },
    {
      "cell_type": "markdown",
      "metadata": {
        "id": "T4yOZJjG1Zo5",
        "colab_type": "text"
      },
      "source": [
        "#Using cross validation"
      ]
    },
    {
      "cell_type": "code",
      "metadata": {
        "id": "n1K6sC7r1bYV",
        "colab_type": "code",
        "colab": {}
      },
      "source": [
        "from sklearn.model_selection import cross_val_score, cross_val_predict\n",
        "from sklearn import metrics"
      ],
      "execution_count": 0,
      "outputs": []
    },
    {
      "cell_type": "code",
      "metadata": {
        "id": "qmybgsCx1dUK",
        "colab_type": "code",
        "colab": {}
      },
      "source": [
        "# Perform 6-fold cross validation\n",
        "scores = cross_val_score(modelw,Xw_train, Yw_train, cv=10)\n",
        "print(\"Cross-validated scores:\", scores)"
      ],
      "execution_count": 0,
      "outputs": []
    },
    {
      "cell_type": "code",
      "metadata": {
        "id": "cuSjZk-B3BMD",
        "colab_type": "code",
        "colab": {}
      },
      "source": [
        "predictions = cross_val_predict(modelw, Xw_test, Yw_test, cv=8)\n",
        "plt.scatter(Yw_test, predictions)"
      ],
      "execution_count": 0,
      "outputs": []
    },
    {
      "cell_type": "code",
      "metadata": {
        "id": "S4fHRsJJ3WFX",
        "colab_type": "code",
        "colab": {}
      },
      "source": [
        "accuracy = metrics.r2_score(Yw_test, predictions)\n",
        "print(\"Cross-Predicted Accuracy:\", accuracy)"
      ],
      "execution_count": 0,
      "outputs": []
    }
  ]
}